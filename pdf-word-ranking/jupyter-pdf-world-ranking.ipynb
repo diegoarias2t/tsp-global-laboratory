{
 "cells": [
  {
   "cell_type": "code",
   "execution_count": 51,
   "id": "ed40e3a3",
   "metadata": {
    "scrolled": true
   },
   "outputs": [],
   "source": [
    "import pandas as pd\n",
    "import numpy as np\n",
    "import re\n",
    "\n",
    "from pdfminer.pdfinterp import PDFResourceManager, PDFPageInterpreter\n",
    "from pdfminer.converter import TextConverter\n",
    "from pdfminer.layout import LAParams\n",
    "from pdfminer.pdfpage import PDFPage\n",
    "from io import StringIO\n",
    "\n",
    "from nltk.corpus import stopwords\n",
    "\n",
    "\n",
    "class PdfConverter:\n",
    "\n",
    "   def __init__(self, file_path):\n",
    "       self.file_path = file_path\n",
    "        \n",
    "# → Function used to convert pdf to text to allow the post-processing.\n",
    "   def convert_pdf_to_txt(self):\n",
    "       rsrcmgr = PDFResourceManager()\n",
    "       retstr = StringIO()\n",
    "       codec = 'utf-8'  # 'utf16','utf-8'\n",
    "       laparams = LAParams()\n",
    "       device = TextConverter(rsrcmgr, retstr, codec=codec, laparams=laparams)\n",
    "       fp = open(self.file_path, 'rb')\n",
    "       interpreter = PDFPageInterpreter(rsrcmgr, device)\n",
    "    \n",
    "# → Proposing just to read the first page of the pdf, because this is normally where the abstract and the introduction are.\n",
    "       maxpages = 1\n",
    "        \n",
    "       caching = True\n",
    "       pagenos = set()\n",
    "       for page in PDFPage.get_pages(fp, pagenos, maxpages=maxpages, caching=caching, check_extractable=True):\n",
    "           interpreter.process_page(page)\n",
    "       fp.close()\n",
    "       device.close()\n",
    "       str = retstr.getvalue()\n",
    "       retstr.close()\n",
    "       return str\n",
    "        \n",
    "if __name__ == '__main__':\n",
    "    # → Put the path of your pfd here : \n",
    "    pdfConverter = PdfConverter(file_path='sample-papers/4.pdf')\n",
    "    \n",
    "    # → Now we have the pdf in plain text format. I am also applying a lower() here to avoid dealing with this later.\n",
    "    text = pdfConverter.convert_pdf_to_txt().lower()"
   ]
  },
  {
   "cell_type": "code",
   "execution_count": 52,
   "id": "c7e261a1",
   "metadata": {},
   "outputs": [
    {
     "name": "stdout",
     "output_type": "stream",
     "text": [
      "330\n"
     ]
    }
   ],
   "source": [
    "# → First post-processing for the text : Deleting all the symbols. [^\\w] will match anything that's not alphanumeric or underscore.\n",
    "text = re.sub(r'[^\\w]', ' ', text)\n",
    "\n",
    "# → Second post-processing for the text. Avoiding stop words using the nltk dictionary.\n",
    "generalDictionary = stopwords.words('english')\n",
    "wordsArray = text.split()\n",
    "generalResult = [word for word in wordsArray if word.lower() not in generalDictionary]\n",
    "text = ' '.join(generalResult)\n",
    "\n",
    "# → Third post-processing for the text. Avoiding numbers.\n",
    "notNumbers = re.findall(r'[a-zA-Z]\\w+',text)\n",
    "text = ' '.join(notNumbers)\n",
    "\n",
    "# → Printing the number of words in the text after the whole post-processing.\n",
    "print(len(notNumbers))"
   ]
  },
  {
   "cell_type": "markdown",
   "id": "f78e33e1",
   "metadata": {},
   "source": [
    "### Method 1"
   ]
  },
  {
   "cell_type": "code",
   "execution_count": 53,
   "id": "5a129ae0",
   "metadata": {},
   "outputs": [
    {
     "name": "stdout",
     "output_type": "stream",
     "text": [
      "Keywords:\n",
      "\n",
      "1 cores\n",
      "2 mobile\n",
      "3 system\n",
      "4 android\n",
      "5 energy\n",
      "6 application\n",
      "7 processors\n",
      "8 power\n",
      "9 use\n",
      "10 conservation\n"
     ]
    }
   ],
   "source": [
    "# → Calculating the repetition frequency of each word.\n",
    "def word_count(str):\n",
    "    counts = dict()\n",
    "    words = str.split()\n",
    "    \n",
    "    for word in words:\n",
    "        if word in counts:\n",
    "            counts[word] += 1\n",
    "        else:\n",
    "            counts[word] = 1\n",
    "\n",
    "    return counts\n",
    "\n",
    "# → dictionary that contains the repetition frecuency of a word and its value.\n",
    "d = word_count(text)\n",
    "\n",
    "# → Simple array and counter to select the desired number of keywords that we want.\n",
    "array = []\n",
    "i = 0\n",
    "\n",
    "for w in sorted(d, key=d.get, reverse=True):\n",
    "    array.append(w)\n",
    "    # → Uncomment the following to the see the complete dictionary and its values.\n",
    "    #print(w, d[w])\n",
    "\n",
    "desiredKeywords = 10\n",
    "\n",
    "print ('Keywords:\\n')\n",
    "for i in range(desiredKeywords):\n",
    "    print (str(i+1)+' '+array[i])"
   ]
  },
  {
   "cell_type": "markdown",
   "id": "358d3a77",
   "metadata": {},
   "source": [
    "### Method 2"
   ]
  },
  {
   "cell_type": "markdown",
   "id": "d20f504c",
   "metadata": {},
   "source": [
    "This is the second method that I propose, this one is using the Gensim library, the thing is that we are not able to see the process of how its calculating the keywords, and if you run the code with the same paper you will see that we get different results for keywords (the correct keywords are from the first method because I counted the repetition frequency with an external software). So yeah, I think my manual method is better than the library because of the post-processing."
   ]
  },
  {
   "cell_type": "code",
   "execution_count": 54,
   "id": "4567802d",
   "metadata": {},
   "outputs": [],
   "source": [
    "from gensim.summarization import keywords\n",
    "import warnings\n",
    "#warnings.filterwarnings(\"ignore\")"
   ]
  },
  {
   "cell_type": "code",
   "execution_count": 55,
   "id": "4e340fcd",
   "metadata": {
    "scrolled": true
   },
   "outputs": [],
   "source": [
    "values = keywords(text=text,split='\\n',scores=True)"
   ]
  },
  {
   "cell_type": "code",
   "execution_count": 56,
   "id": "2bfdcfc5",
   "metadata": {
    "scrolled": true
   },
   "outputs": [
    {
     "data": {
      "text/html": [
       "<div>\n",
       "<style scoped>\n",
       "    .dataframe tbody tr th:only-of-type {\n",
       "        vertical-align: middle;\n",
       "    }\n",
       "\n",
       "    .dataframe tbody tr th {\n",
       "        vertical-align: top;\n",
       "    }\n",
       "\n",
       "    .dataframe thead th {\n",
       "        text-align: right;\n",
       "    }\n",
       "</style>\n",
       "<table border=\"1\" class=\"dataframe\">\n",
       "  <thead>\n",
       "    <tr style=\"text-align: right;\">\n",
       "      <th></th>\n",
       "      <th>keyword</th>\n",
       "      <th>score</th>\n",
       "    </tr>\n",
       "  </thead>\n",
       "  <tbody>\n",
       "    <tr>\n",
       "      <th>0</th>\n",
       "      <td>core</td>\n",
       "      <td>0.339256</td>\n",
       "    </tr>\n",
       "    <tr>\n",
       "      <th>1</th>\n",
       "      <td>cores</td>\n",
       "      <td>0.339256</td>\n",
       "    </tr>\n",
       "    <tr>\n",
       "      <th>2</th>\n",
       "      <td>mobile</td>\n",
       "      <td>0.202357</td>\n",
       "    </tr>\n",
       "    <tr>\n",
       "      <th>3</th>\n",
       "      <td>mobiles</td>\n",
       "      <td>0.202357</td>\n",
       "    </tr>\n",
       "    <tr>\n",
       "      <th>4</th>\n",
       "      <td>processor</td>\n",
       "      <td>0.200973</td>\n",
       "    </tr>\n",
       "    <tr>\n",
       "      <th>5</th>\n",
       "      <td>processors</td>\n",
       "      <td>0.200973</td>\n",
       "    </tr>\n",
       "    <tr>\n",
       "      <th>6</th>\n",
       "      <td>use</td>\n",
       "      <td>0.180999</td>\n",
       "    </tr>\n",
       "    <tr>\n",
       "      <th>7</th>\n",
       "      <td>designers</td>\n",
       "      <td>0.172344</td>\n",
       "    </tr>\n",
       "    <tr>\n",
       "      <th>8</th>\n",
       "      <td>design</td>\n",
       "      <td>0.172344</td>\n",
       "    </tr>\n",
       "    <tr>\n",
       "      <th>9</th>\n",
       "      <td>power</td>\n",
       "      <td>0.151012</td>\n",
       "    </tr>\n",
       "  </tbody>\n",
       "</table>\n",
       "</div>"
      ],
      "text/plain": [
       "      keyword     score\n",
       "0        core  0.339256\n",
       "1       cores  0.339256\n",
       "2      mobile  0.202357\n",
       "3     mobiles  0.202357\n",
       "4   processor  0.200973\n",
       "5  processors  0.200973\n",
       "6         use  0.180999\n",
       "7   designers  0.172344\n",
       "8      design  0.172344\n",
       "9       power  0.151012"
      ]
     },
     "execution_count": 56,
     "metadata": {},
     "output_type": "execute_result"
    }
   ],
   "source": [
    "data = pd.DataFrame(values,columns=['keyword','score'])\n",
    "data = data.sort_values('score',ascending=False)\n",
    "data.head(10)"
   ]
  },
  {
   "cell_type": "code",
   "execution_count": null,
   "id": "0bddc142",
   "metadata": {},
   "outputs": [],
   "source": []
  }
 ],
 "metadata": {
  "kernelspec": {
   "display_name": "Python 3",
   "language": "python",
   "name": "python3"
  },
  "language_info": {
   "codemirror_mode": {
    "name": "ipython",
    "version": 3
   },
   "file_extension": ".py",
   "mimetype": "text/x-python",
   "name": "python",
   "nbconvert_exporter": "python",
   "pygments_lexer": "ipython3",
   "version": "3.8.8"
  }
 },
 "nbformat": 4,
 "nbformat_minor": 5
}
